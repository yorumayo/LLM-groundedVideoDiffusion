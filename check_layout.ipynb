{
 "cells": [
  {
   "cell_type": "code",
   "execution_count": 1,
   "metadata": {},
   "outputs": [],
   "source": [
    "from prompt import prompts_demo\n",
    "from IPython.display import Image, display\n",
    "from utils.api_key import api_key\n",
    "import os"
   ]
  },
  {
   "cell_type": "code",
   "execution_count": 2,
   "metadata": {},
   "outputs": [
    {
     "name": "stdout",
     "output_type": "stream",
     "text": [
      "{\n",
      "  \"object\": \"list\",\n",
      "  \"data\": [\n",
      "    {\n",
      "      \"id\": \"gpt-4.5-preview\",\n",
      "      \"object\": \"model\",\n",
      "      \"created\": 1740623059,\n",
      "      \"owned_by\": \"system\"\n",
      "    },\n",
      "    {\n",
      "      \"id\": \"gpt-4.5-preview-2025-02-27\",\n",
      "      \"object\": \"model\",\n",
      "      \"created\": 1740623304,\n",
      "      \"owned_by\": \"system\"\n",
      "    },\n",
      "    {\n",
      "      \"id\": \"gpt-4o-mini-2024-07-18\",\n",
      "      \"object\": \"model\",\n",
      "      \"created\": 1721172717,\n",
      "      \"owned_by\": \"system\"\n",
      "    },\n",
      "    {\n",
      "      \"id\": \"gpt-4o-mini-audio-preview-2024-12-17\",\n",
      "      \"object\": \"model\",\n",
      "      \"created\": 1734115920,\n",
      "      \"owned_by\": \"system\"\n",
      "    },\n",
      "    {\n",
      "      \"id\": \"dall-e-3\",\n",
      "      \"object\": \"model\",\n",
      "      \"created\": 1698785189,\n",
      "      \"owned_by\": \"system\"\n",
      "    },\n",
      "    {\n",
      "      \"id\": \"dall-e-2\",\n",
      "      \"object\": \"model\",\n",
      "      \"created\": 1698798177,\n",
      "      \"owned_by\": \"system\"\n",
      "    },\n",
      "    {\n",
      "      \"id\": \"gpt-4o-audio-preview-2024-10-01\",\n",
      "      \"object\": \"model\",\n",
      "      \"created\": 1727389042,\n",
      "      \"owned_by\": \"system\"\n",
      "    },\n",
      "    {\n",
      "      \"id\": \"gpt-4o-audio-preview\",\n",
      "      \"object\": \"model\",\n",
      "      \"created\": 1727460443,\n",
      "      \"owned_by\": \"system\"\n",
      "    },\n",
      "    {\n",
      "      \"id\": \"gpt-4o-mini-realtime-preview-2024-12-17\",\n",
      "      \"object\": \"model\",\n",
      "      \"created\": 1734112601,\n",
      "      \"owned_by\": \"system\"\n",
      "    },\n",
      "    {\n",
      "      \"id\": \"gpt-4o-mini-realtime-preview\",\n",
      "      \"object\": \"model\",\n",
      "      \"created\": 1734387380,\n",
      "      \"owned_by\": \"system\"\n",
      "    },\n",
      "    {\n",
      "      \"id\": \"o1-mini-2024-09-12\",\n",
      "      \"object\": \"model\",\n",
      "      \"created\": 1725648979,\n",
      "      \"owned_by\": \"system\"\n",
      "    },\n",
      "    {\n",
      "      \"id\": \"o1-mini\",\n",
      "      \"object\": \"model\",\n",
      "      \"created\": 1725649008,\n",
      "      \"owned_by\": \"system\"\n",
      "    },\n",
      "    {\n",
      "      \"id\": \"omni-moderation-latest\",\n",
      "      \"object\": \"model\",\n",
      "      \"created\": 1731689265,\n",
      "      \"owned_by\": \"system\"\n",
      "    },\n",
      "    {\n",
      "      \"id\": \"gpt-4o-mini-audio-preview\",\n",
      "      \"object\": \"model\",\n",
      "      \"created\": 1734387424,\n",
      "      \"owned_by\": \"system\"\n",
      "    },\n",
      "    {\n",
      "      \"id\": \"omni-moderation-2024-09-26\",\n",
      "      \"object\": \"model\",\n",
      "      \"created\": 1732734466,\n",
      "      \"owned_by\": \"system\"\n",
      "    },\n",
      "    {\n",
      "      \"id\": \"gpt-4o-realtime-preview-2024-10-01\",\n",
      "      \"object\": \"model\",\n",
      "      \"created\": 1727131766,\n",
      "      \"owned_by\": \"system\"\n",
      "    },\n",
      "    {\n",
      "      \"id\": \"babbage-002\",\n",
      "      \"object\": \"model\",\n",
      "      \"created\": 1692634615,\n",
      "      \"owned_by\": \"system\"\n",
      "    },\n",
      "    {\n",
      "      \"id\": \"tts-1-hd-1106\",\n",
      "      \"object\": \"model\",\n",
      "      \"created\": 1699053533,\n",
      "      \"owned_by\": \"system\"\n",
      "    },\n",
      "    {\n",
      "      \"id\": \"text-embedding-3-large\",\n",
      "      \"object\": \"model\",\n",
      "      \"created\": 1705953180,\n",
      "      \"owned_by\": \"system\"\n",
      "    },\n",
      "    {\n",
      "      \"id\": \"gpt-4o-audio-preview-2024-12-17\",\n",
      "      \"object\": \"model\",\n",
      "      \"created\": 1734034239,\n",
      "      \"owned_by\": \"system\"\n",
      "    },\n",
      "    {\n",
      "      \"id\": \"gpt-4\",\n",
      "      \"object\": \"model\",\n",
      "      \"created\": 1687882411,\n",
      "      \"owned_by\": \"openai\"\n",
      "    },\n",
      "    {\n",
      "      \"id\": \"gpt-4o-2024-05-13\",\n",
      "      \"object\": \"model\",\n",
      "      \"created\": 1715368132,\n",
      "      \"owned_by\": \"system\"\n",
      "    },\n",
      "    {\n",
      "      \"id\": \"tts-1-hd\",\n",
      "      \"object\": \"model\",\n",
      "      \"created\": 1699046015,\n",
      "      \"owned_by\": \"system\"\n",
      "    },\n",
      "    {\n",
      "      \"id\": \"o1-preview\",\n",
      "      \"object\": \"model\",\n",
      "      \"created\": 1725648897,\n",
      "      \"owned_by\": \"system\"\n",
      "    },\n",
      "    {\n",
      "      \"id\": \"o1-preview-2024-09-12\",\n",
      "      \"object\": \"model\",\n",
      "      \"created\": 1725648865,\n",
      "      \"owned_by\": \"system\"\n",
      "    },\n",
      "    {\n",
      "      \"id\": \"o1-2024-12-17\",\n",
      "      \"object\": \"model\",\n",
      "      \"created\": 1734326976,\n",
      "      \"owned_by\": \"system\"\n",
      "    },\n",
      "    {\n",
      "      \"id\": \"gpt-3.5-turbo-instruct-0914\",\n",
      "      \"object\": \"model\",\n",
      "      \"created\": 1694122472,\n",
      "      \"owned_by\": \"system\"\n",
      "    },\n",
      "    {\n",
      "      \"id\": \"gpt-4o-mini-search-preview\",\n",
      "      \"object\": \"model\",\n",
      "      \"created\": 1741391161,\n",
      "      \"owned_by\": \"system\"\n",
      "    },\n",
      "    {\n",
      "      \"id\": \"o1\",\n",
      "      \"object\": \"model\",\n",
      "      \"created\": 1734375816,\n",
      "      \"owned_by\": \"system\"\n",
      "    },\n",
      "    {\n",
      "      \"id\": \"tts-1-1106\",\n",
      "      \"object\": \"model\",\n",
      "      \"created\": 1699053241,\n",
      "      \"owned_by\": \"system\"\n",
      "    },\n",
      "    {\n",
      "      \"id\": \"o3-mini-2025-01-31\",\n",
      "      \"object\": \"model\",\n",
      "      \"created\": 1738010200,\n",
      "      \"owned_by\": \"system\"\n",
      "    },\n",
      "    {\n",
      "      \"id\": \"davinci-002\",\n",
      "      \"object\": \"model\",\n",
      "      \"created\": 1692634301,\n",
      "      \"owned_by\": \"system\"\n",
      "    },\n",
      "    {\n",
      "      \"id\": \"o3-mini\",\n",
      "      \"object\": \"model\",\n",
      "      \"created\": 1737146383,\n",
      "      \"owned_by\": \"system\"\n",
      "    },\n",
      "    {\n",
      "      \"id\": \"gpt-3.5-turbo-1106\",\n",
      "      \"object\": \"model\",\n",
      "      \"created\": 1698959748,\n",
      "      \"owned_by\": \"system\"\n",
      "    },\n",
      "    {\n",
      "      \"id\": \"gpt-4o-search-preview\",\n",
      "      \"object\": \"model\",\n",
      "      \"created\": 1741388720,\n",
      "      \"owned_by\": \"system\"\n",
      "    },\n",
      "    {\n",
      "      \"id\": \"gpt-4-turbo\",\n",
      "      \"object\": \"model\",\n",
      "      \"created\": 1712361441,\n",
      "      \"owned_by\": \"system\"\n",
      "    },\n",
      "    {\n",
      "      \"id\": \"gpt-4-0125-preview\",\n",
      "      \"object\": \"model\",\n",
      "      \"created\": 1706037612,\n",
      "      \"owned_by\": \"system\"\n",
      "    },\n",
      "    {\n",
      "      \"id\": \"gpt-3.5-turbo-instruct\",\n",
      "      \"object\": \"model\",\n",
      "      \"created\": 1692901427,\n",
      "      \"owned_by\": \"system\"\n",
      "    },\n",
      "    {\n",
      "      \"id\": \"gpt-4o-mini-search-preview-2025-03-11\",\n",
      "      \"object\": \"model\",\n",
      "      \"created\": 1741390858,\n",
      "      \"owned_by\": \"system\"\n",
      "    },\n",
      "    {\n",
      "      \"id\": \"gpt-3.5-turbo-0125\",\n",
      "      \"object\": \"model\",\n",
      "      \"created\": 1706048358,\n",
      "      \"owned_by\": \"system\"\n",
      "    },\n",
      "    {\n",
      "      \"id\": \"gpt-4o-2024-08-06\",\n",
      "      \"object\": \"model\",\n",
      "      \"created\": 1722814719,\n",
      "      \"owned_by\": \"system\"\n",
      "    },\n",
      "    {\n",
      "      \"id\": \"gpt-4o-realtime-preview-2024-12-17\",\n",
      "      \"object\": \"model\",\n",
      "      \"created\": 1733945430,\n",
      "      \"owned_by\": \"system\"\n",
      "    },\n",
      "    {\n",
      "      \"id\": \"gpt-3.5-turbo\",\n",
      "      \"object\": \"model\",\n",
      "      \"created\": 1677610602,\n",
      "      \"owned_by\": \"openai\"\n",
      "    },\n",
      "    {\n",
      "      \"id\": \"gpt-4-turbo-2024-04-09\",\n",
      "      \"object\": \"model\",\n",
      "      \"created\": 1712601677,\n",
      "      \"owned_by\": \"system\"\n",
      "    },\n",
      "    {\n",
      "      \"id\": \"gpt-4o-realtime-preview\",\n",
      "      \"object\": \"model\",\n",
      "      \"created\": 1727659998,\n",
      "      \"owned_by\": \"system\"\n",
      "    },\n",
      "    {\n",
      "      \"id\": \"gpt-3.5-turbo-16k\",\n",
      "      \"object\": \"model\",\n",
      "      \"created\": 1683758102,\n",
      "      \"owned_by\": \"openai-internal\"\n",
      "    },\n",
      "    {\n",
      "      \"id\": \"gpt-4o\",\n",
      "      \"object\": \"model\",\n",
      "      \"created\": 1715367049,\n",
      "      \"owned_by\": \"system\"\n",
      "    },\n",
      "    {\n",
      "      \"id\": \"text-embedding-3-small\",\n",
      "      \"object\": \"model\",\n",
      "      \"created\": 1705948997,\n",
      "      \"owned_by\": \"system\"\n",
      "    },\n",
      "    {\n",
      "      \"id\": \"chatgpt-4o-latest\",\n",
      "      \"object\": \"model\",\n",
      "      \"created\": 1723515131,\n",
      "      \"owned_by\": \"system\"\n",
      "    },\n",
      "    {\n",
      "      \"id\": \"gpt-4-1106-preview\",\n",
      "      \"object\": \"model\",\n",
      "      \"created\": 1698957206,\n",
      "      \"owned_by\": \"system\"\n",
      "    },\n",
      "    {\n",
      "      \"id\": \"text-embedding-ada-002\",\n",
      "      \"object\": \"model\",\n",
      "      \"created\": 1671217299,\n",
      "      \"owned_by\": \"openai-internal\"\n",
      "    },\n",
      "    {\n",
      "      \"id\": \"gpt-4-0613\",\n",
      "      \"object\": \"model\",\n",
      "      \"created\": 1686588896,\n",
      "      \"owned_by\": \"openai\"\n",
      "    },\n",
      "    {\n",
      "      \"id\": \"gpt-4o-mini\",\n",
      "      \"object\": \"model\",\n",
      "      \"created\": 1721172741,\n",
      "      \"owned_by\": \"system\"\n",
      "    },\n",
      "    {\n",
      "      \"id\": \"computer-use-preview\",\n",
      "      \"object\": \"model\",\n",
      "      \"created\": 1734655677,\n",
      "      \"owned_by\": \"system\"\n",
      "    },\n",
      "    {\n",
      "      \"id\": \"computer-use-preview-2025-03-11\",\n",
      "      \"object\": \"model\",\n",
      "      \"created\": 1741377021,\n",
      "      \"owned_by\": \"system\"\n",
      "    },\n",
      "    {\n",
      "      \"id\": \"whisper-1\",\n",
      "      \"object\": \"model\",\n",
      "      \"created\": 1677532384,\n",
      "      \"owned_by\": \"openai-internal\"\n",
      "    },\n",
      "    {\n",
      "      \"id\": \"gpt-4o-search-preview-2025-03-11\",\n",
      "      \"object\": \"model\",\n",
      "      \"created\": 1741388170,\n",
      "      \"owned_by\": \"system\"\n",
      "    },\n",
      "    {\n",
      "      \"id\": \"tts-1\",\n",
      "      \"object\": \"model\",\n",
      "      \"created\": 1681940951,\n",
      "      \"owned_by\": \"openai-internal\"\n",
      "    },\n",
      "    {\n",
      "      \"id\": \"gpt-4-turbo-preview\",\n",
      "      \"object\": \"model\",\n",
      "      \"created\": 1706037777,\n",
      "      \"owned_by\": \"system\"\n",
      "    },\n",
      "    {\n",
      "      \"id\": \"gpt-4o-2024-11-20\",\n",
      "      \"object\": \"model\",\n",
      "      \"created\": 1739331543,\n",
      "      \"owned_by\": \"system\"\n",
      "    },\n",
      "    {\n",
      "      \"id\": \"ft:gpt-4o-2024-08-06:nus-ids-nz-sg-nlp::AhrAWR7g:ckpt-step-100\",\n",
      "      \"object\": \"model\",\n",
      "      \"created\": 1735015848,\n",
      "      \"owned_by\": \"instituteofdatascience\"\n",
      "    },\n",
      "    {\n",
      "      \"id\": \"ft:gpt-4o-2024-08-06:nus-ids-nz-sg-nlp::AhrAWj1o:ckpt-step-200\",\n",
      "      \"object\": \"model\",\n",
      "      \"created\": 1735015848,\n",
      "      \"owned_by\": \"instituteofdatascience\"\n",
      "    },\n",
      "    {\n",
      "      \"id\": \"ft:gpt-4o-2024-08-06:nus-ids-nz-sg-nlp::AhrAWjyL\",\n",
      "      \"object\": \"model\",\n",
      "      \"created\": 1735015848,\n",
      "      \"owned_by\": \"instituteofdatascience\"\n",
      "    },\n",
      "    {\n",
      "      \"id\": \"ft:gpt-4o-2024-08-06:nus-ids-nz-sg-nlp::AhrhLaR6\",\n",
      "      \"object\": \"model\",\n",
      "      \"created\": 1735017883,\n",
      "      \"owned_by\": \"instituteofdatascience\"\n",
      "    },\n",
      "    {\n",
      "      \"id\": \"ft:gpt-4o-2024-08-06:nus-ids-nz-sg-nlp::AhrhKHut:ckpt-step-48\",\n",
      "      \"object\": \"model\",\n",
      "      \"created\": 1735017883,\n",
      "      \"owned_by\": \"instituteofdatascience\"\n",
      "    },\n",
      "    {\n",
      "      \"id\": \"ft:gpt-4o-2024-08-06:nus-ids-nz-sg-nlp::AhrhL6Ib:ckpt-step-96\",\n",
      "      \"object\": \"model\",\n",
      "      \"created\": 1735017883,\n",
      "      \"owned_by\": \"instituteofdatascience\"\n",
      "    },\n",
      "    {\n",
      "      \"id\": \"ft:gpt-4o-mini-2024-07-18:nus-ids-nz-sg-nlp::Ahg4FaHR:ckpt-step-48\",\n",
      "      \"object\": \"model\",\n",
      "      \"created\": 1734973175,\n",
      "      \"owned_by\": \"instituteofdatascience\"\n",
      "    },\n",
      "    {\n",
      "      \"id\": \"ft:gpt-4o-mini-2024-07-18:nus-ids-nz-sg-nlp::Ahg4FgD2:ckpt-step-96\",\n",
      "      \"object\": \"model\",\n",
      "      \"created\": 1734973175,\n",
      "      \"owned_by\": \"instituteofdatascience\"\n",
      "    },\n",
      "    {\n",
      "      \"id\": \"ft:gpt-4o-mini-2024-07-18:nus-ids-nz-sg-nlp::Ahg4FGJn\",\n",
      "      \"object\": \"model\",\n",
      "      \"created\": 1734973175,\n",
      "      \"owned_by\": \"instituteofdatascience\"\n",
      "    },\n",
      "    {\n",
      "      \"id\": \"ft:gpt-4o-2024-08-06:nus-ids-nz-sg-nlp::AkAyh4Vt:ckpt-step-608\",\n",
      "      \"object\": \"model\",\n",
      "      \"created\": 1735568652,\n",
      "      \"owned_by\": \"instituteofdatascience\"\n",
      "    },\n",
      "    {\n",
      "      \"id\": \"ft:gpt-4o-2024-08-06:nus-ids-nz-sg-nlp::AkAyiSx0:ckpt-step-1216\",\n",
      "      \"object\": \"model\",\n",
      "      \"created\": 1735568652,\n",
      "      \"owned_by\": \"instituteofdatascience\"\n",
      "    },\n",
      "    {\n",
      "      \"id\": \"ft:gpt-4o-2024-08-06:nus-ids-nz-sg-nlp::AkAyiO3c\",\n",
      "      \"object\": \"model\",\n",
      "      \"created\": 1735568652,\n",
      "      \"owned_by\": \"instituteofdatascience\"\n",
      "    }\n",
      "  ]\n",
      "}\n"
     ]
    }
   ],
   "source": [
    "import subprocess\n",
    "import os\n",
    "os.environ['OPENAI_API_KEY'] = api_key\n",
    "result = subprocess.run(\n",
    "    ['curl', 'https://api.openai.com/v1/models', '-H', f'Authorization: Bearer {os.environ[\"OPENAI_API_KEY\"]}'],\n",
    "    stdout=subprocess.PIPE,\n",
    "    stderr=subprocess.PIPE,\n",
    "    text=True\n",
    ")\n",
    "print(result.stdout)\n"
   ]
  },
  {
   "cell_type": "code",
   "execution_count": 4,
   "metadata": {},
   "outputs": [
    {
     "name": "stdout",
     "output_type": "stream",
     "text": [
      "Comparing images for prompt 0: A fish swims swiftly from the bottom, spiraling upward in a wide helix pattern, then pauses briefly before gliding gently towards the bottom left.\n"
     ]
    },
    {
     "data": {
      "text/html": [
       "<div style=\"display: flex; gap: 20px;\">\n",
       "            <div style=\"text-align: center;\">\n",
       "                <p>GPT-4.5-preview</p>\n",
       "                <img src=\"/home/leigang/wangzy/LLM-groundedVideoDiffusion/img_generations/imgs_demo_templatev0.1_gpt-4.5-preview/boxes_0.gif\" width=\"256\">\n",
       "            </div>\n",
       "            \n",
       "            <div style=\"text-align: center;\">\n",
       "                <p>GPT-4o</p>\n",
       "                <img src=\"/home/leigang/wangzy/LLM-groundedVideoDiffusion/img_generations/imgs_demo_templatev0.1_gpt-4o/boxes_0.gif\" width=\"256\">\n",
       "            </div>\n",
       "            \n",
       "            <div style=\"text-align: center;\">\n",
       "                <p>GPT-4-1106</p>\n",
       "                <img src=\"/home/leigang/wangzy/LLM-groundedVideoDiffusion/img_generations/imgs_demo_templatev0.1_gpt-4-1106-preview/boxes_0.gif\" width=\"256\">\n",
       "            </div>\n",
       "            </div>"
      ],
      "text/plain": [
       "<IPython.core.display.HTML object>"
      ]
     },
     "metadata": {},
     "output_type": "display_data"
    },
    {
     "name": "stdout",
     "output_type": "stream",
     "text": [
      "Comparing images for prompt 1: A basketball bounces from the bottom right corner diagonally upward, hits an imaginary wall, and ricochets toward the left, bouncing gently to a stop near the center.\n"
     ]
    },
    {
     "data": {
      "text/html": [
       "<div style=\"display: flex; gap: 20px;\">\n",
       "            <div style=\"text-align: center;\">\n",
       "                <p>GPT-4.5-preview</p>\n",
       "                <img src=\"/home/leigang/wangzy/LLM-groundedVideoDiffusion/img_generations/imgs_demo_templatev0.1_gpt-4.5-preview/boxes_1.gif\" width=\"256\">\n",
       "            </div>\n",
       "            \n",
       "            <div style=\"text-align: center;\">\n",
       "                <p>GPT-4o</p>\n",
       "                <img src=\"/home/leigang/wangzy/LLM-groundedVideoDiffusion/img_generations/imgs_demo_templatev0.1_gpt-4o/boxes_1.gif\" width=\"256\">\n",
       "            </div>\n",
       "            \n",
       "            <div style=\"text-align: center;\">\n",
       "                <p>GPT-4-1106</p>\n",
       "                <img src=\"/home/leigang/wangzy/LLM-groundedVideoDiffusion/img_generations/imgs_demo_templatev0.1_gpt-4-1106-preview/boxes_1.gif\" width=\"256\">\n",
       "            </div>\n",
       "            </div>"
      ],
      "text/plain": [
       "<IPython.core.display.HTML object>"
      ]
     },
     "metadata": {},
     "output_type": "display_data"
    },
    {
     "name": "stdout",
     "output_type": "stream",
     "text": [
      "Comparing images for prompt 2: An eagle dives from the top, pulls upward in a graceful curve, and ascends again toward the top left corner.\n"
     ]
    },
    {
     "data": {
      "text/html": [
       "<div style=\"display: flex; gap: 20px;\">\n",
       "            <div style=\"text-align: center;\">\n",
       "                <p>GPT-4.5-preview</p>\n",
       "                <img src=\"/home/leigang/wangzy/LLM-groundedVideoDiffusion/img_generations/imgs_demo_templatev0.1_gpt-4.5-preview/boxes_2.gif\" width=\"256\">\n",
       "            </div>\n",
       "            \n",
       "            <div style=\"text-align: center;\">\n",
       "                <p>GPT-4o</p>\n",
       "                <img src=\"/home/leigang/wangzy/LLM-groundedVideoDiffusion/img_generations/imgs_demo_templatev0.1_gpt-4o/boxes_2.gif\" width=\"256\">\n",
       "            </div>\n",
       "            \n",
       "            <div style=\"text-align: center;\">\n",
       "                <p>GPT-4-1106</p>\n",
       "                <img src=\"/home/leigang/wangzy/LLM-groundedVideoDiffusion/img_generations/imgs_demo_templatev0.1_gpt-4-1106-preview/boxes_2.gif\" width=\"256\">\n",
       "            </div>\n",
       "            </div>"
      ],
      "text/plain": [
       "<IPython.core.display.HTML object>"
      ]
     },
     "metadata": {},
     "output_type": "display_data"
    },
    {
     "name": "stdout",
     "output_type": "stream",
     "text": [
      "Comparing images for prompt 3: Two dolphins leap from opposite sides, cross midair at the center, and splash back into the water.\n"
     ]
    },
    {
     "data": {
      "text/html": [
       "<div style=\"display: flex; gap: 20px;\">\n",
       "            <div style=\"text-align: center;\">\n",
       "                <p>GPT-4.5-preview</p>\n",
       "                <img src=\"/home/leigang/wangzy/LLM-groundedVideoDiffusion/img_generations/imgs_demo_templatev0.1_gpt-4.5-preview/boxes_3.gif\" width=\"256\">\n",
       "            </div>\n",
       "            \n",
       "            <div style=\"text-align: center;\">\n",
       "                <p>GPT-4o</p>\n",
       "                <img src=\"/home/leigang/wangzy/LLM-groundedVideoDiffusion/img_generations/imgs_demo_templatev0.1_gpt-4o/boxes_3.gif\" width=\"256\">\n",
       "            </div>\n",
       "            \n",
       "            <div style=\"text-align: center;\">\n",
       "                <p>GPT-4-1106</p>\n",
       "                <img src=\"/home/leigang/wangzy/LLM-groundedVideoDiffusion/img_generations/imgs_demo_templatev0.1_gpt-4-1106-preview/boxes_3.gif\" width=\"256\">\n",
       "            </div>\n",
       "            </div>"
      ],
      "text/plain": [
       "<IPython.core.display.HTML object>"
      ]
     },
     "metadata": {},
     "output_type": "display_data"
    },
    {
     "name": "stdout",
     "output_type": "stream",
     "text": [
      "Comparing images for prompt 4: Two cars race side-by-side upward, then split apart sharply, one veering left and the other right toward the upper corners.\n"
     ]
    },
    {
     "data": {
      "text/html": [
       "<div style=\"display: flex; gap: 20px;\">\n",
       "            <div style=\"text-align: center;\">\n",
       "                <p>GPT-4.5-preview</p>\n",
       "                <img src=\"/home/leigang/wangzy/LLM-groundedVideoDiffusion/img_generations/imgs_demo_templatev0.1_gpt-4.5-preview/boxes_4.gif\" width=\"256\">\n",
       "            </div>\n",
       "            \n",
       "            <div style=\"text-align: center;\">\n",
       "                <p>GPT-4o</p>\n",
       "                <img src=\"/home/leigang/wangzy/LLM-groundedVideoDiffusion/img_generations/imgs_demo_templatev0.1_gpt-4o/boxes_4.gif\" width=\"256\">\n",
       "            </div>\n",
       "            \n",
       "            <div style=\"text-align: center;\">\n",
       "                <p>GPT-4-1106</p>\n",
       "                <img src=\"/home/leigang/wangzy/LLM-groundedVideoDiffusion/img_generations/imgs_demo_templatev0.1_gpt-4-1106-preview/boxes_4.gif\" width=\"256\">\n",
       "            </div>\n",
       "            </div>"
      ],
      "text/plain": [
       "<IPython.core.display.HTML object>"
      ]
     },
     "metadata": {},
     "output_type": "display_data"
    },
    {
     "name": "stdout",
     "output_type": "stream",
     "text": [
      "Comparing images for prompt 5: Two birds fly from opposite directions, circle around each other gracefully, and then depart in separate directions, one ascending and the other descending.\n"
     ]
    },
    {
     "data": {
      "text/html": [
       "<div style=\"display: flex; gap: 20px;\">\n",
       "            <div style=\"text-align: center;\">\n",
       "                <p>GPT-4.5-preview</p>\n",
       "                <img src=\"/home/leigang/wangzy/LLM-groundedVideoDiffusion/img_generations/imgs_demo_templatev0.1_gpt-4.5-preview/boxes_5.gif\" width=\"256\">\n",
       "            </div>\n",
       "            \n",
       "            <div style=\"text-align: center;\">\n",
       "                <p>GPT-4o</p>\n",
       "                <img src=\"/home/leigang/wangzy/LLM-groundedVideoDiffusion/img_generations/imgs_demo_templatev0.1_gpt-4o/boxes_5.gif\" width=\"256\">\n",
       "            </div>\n",
       "            \n",
       "            <div style=\"text-align: center;\">\n",
       "                <p>GPT-4-1106</p>\n",
       "                <img src=\"/home/leigang/wangzy/LLM-groundedVideoDiffusion/img_generations/imgs_demo_templatev0.1_gpt-4-1106-preview/boxes_5.gif\" width=\"256\">\n",
       "            </div>\n",
       "            </div>"
      ],
      "text/plain": [
       "<IPython.core.display.HTML object>"
      ]
     },
     "metadata": {},
     "output_type": "display_data"
    },
    {
     "name": "stdout",
     "output_type": "stream",
     "text": [
      "Comparing images for prompt 6: A butterfly flutters erratically from the bottom right, zigzags unpredictably across the screen, then gently floats downward toward the left side.\n"
     ]
    },
    {
     "data": {
      "text/html": [
       "<div style=\"display: flex; gap: 20px;\">\n",
       "            <div style=\"text-align: center;\">\n",
       "                <p>GPT-4.5-preview</p>\n",
       "                <img src=\"/home/leigang/wangzy/LLM-groundedVideoDiffusion/img_generations/imgs_demo_templatev0.1_gpt-4.5-preview/boxes_6.gif\" width=\"256\">\n",
       "            </div>\n",
       "            \n",
       "            <div style=\"text-align: center;\">\n",
       "                <p>GPT-4o</p>\n",
       "                <img src=\"/home/leigang/wangzy/LLM-groundedVideoDiffusion/img_generations/imgs_demo_templatev0.1_gpt-4o/boxes_6.gif\" width=\"256\">\n",
       "            </div>\n",
       "            \n",
       "            <div style=\"text-align: center;\">\n",
       "                <p>GPT-4-1106</p>\n",
       "                <img src=\"/home/leigang/wangzy/LLM-groundedVideoDiffusion/img_generations/imgs_demo_templatev0.1_gpt-4-1106-preview/boxes_6.gif\" width=\"256\">\n",
       "            </div>\n",
       "            </div>"
      ],
      "text/plain": [
       "<IPython.core.display.HTML object>"
      ]
     },
     "metadata": {},
     "output_type": "display_data"
    },
    {
     "name": "stdout",
     "output_type": "stream",
     "text": [
      "Comparing images for prompt 7: A leaf falls slowly from the top left, drifting gently and unpredictably, landing softly at the bottom center.\n"
     ]
    },
    {
     "data": {
      "text/html": [
       "<div style=\"display: flex; gap: 20px;\">\n",
       "            <div style=\"text-align: center;\">\n",
       "                <p>GPT-4.5-preview</p>\n",
       "                <img src=\"/home/leigang/wangzy/LLM-groundedVideoDiffusion/img_generations/imgs_demo_templatev0.1_gpt-4.5-preview/boxes_7.gif\" width=\"256\">\n",
       "            </div>\n",
       "            \n",
       "            <div style=\"text-align: center;\">\n",
       "                <p>GPT-4o</p>\n",
       "                <img src=\"/home/leigang/wangzy/LLM-groundedVideoDiffusion/img_generations/imgs_demo_templatev0.1_gpt-4o/boxes_7.gif\" width=\"256\">\n",
       "            </div>\n",
       "            \n",
       "            <div style=\"text-align: center;\">\n",
       "                <p>GPT-4-1106</p>\n",
       "                <img src=\"/home/leigang/wangzy/LLM-groundedVideoDiffusion/img_generations/imgs_demo_templatev0.1_gpt-4-1106-preview/boxes_7.gif\" width=\"256\">\n",
       "            </div>\n",
       "            </div>"
      ],
      "text/plain": [
       "<IPython.core.display.HTML object>"
      ]
     },
     "metadata": {},
     "output_type": "display_data"
    },
    {
     "name": "stdout",
     "output_type": "stream",
     "text": [
      "Comparing images for prompt 8: A drone rises from the bottom, flies in two tight circular loops near the top, and then smoothly descends to land at the center bottom.\n"
     ]
    },
    {
     "data": {
      "text/html": [
       "<div style=\"display: flex; gap: 20px;\">\n",
       "            <div style=\"text-align: center;\">\n",
       "                <p>GPT-4.5-preview</p>\n",
       "                <img src=\"/home/leigang/wangzy/LLM-groundedVideoDiffusion/img_generations/imgs_demo_templatev0.1_gpt-4.5-preview/boxes_8.gif\" width=\"256\">\n",
       "            </div>\n",
       "            \n",
       "            <div style=\"text-align: center;\">\n",
       "                <p>GPT-4o</p>\n",
       "                <img src=\"/home/leigang/wangzy/LLM-groundedVideoDiffusion/img_generations/imgs_demo_templatev0.1_gpt-4o/boxes_8.gif\" width=\"256\">\n",
       "            </div>\n",
       "            \n",
       "            <div style=\"text-align: center;\">\n",
       "                <p>GPT-4-1106</p>\n",
       "                <img src=\"/home/leigang/wangzy/LLM-groundedVideoDiffusion/img_generations/imgs_demo_templatev0.1_gpt-4-1106-preview/boxes_8.gif\" width=\"256\">\n",
       "            </div>\n",
       "            </div>"
      ],
      "text/plain": [
       "<IPython.core.display.HTML object>"
      ]
     },
     "metadata": {},
     "output_type": "display_data"
    },
    {
     "name": "stdout",
     "output_type": "stream",
     "text": [
      "Comparing images for prompt 9: A ball rolls from the top center, loops in a circular pattern toward the right, then spirals inward to rest near the center.\n"
     ]
    },
    {
     "data": {
      "text/html": [
       "<div style=\"display: flex; gap: 20px;\">\n",
       "            <div style=\"text-align: center;\">\n",
       "                <p>GPT-4.5-preview</p>\n",
       "                <img src=\"/home/leigang/wangzy/LLM-groundedVideoDiffusion/img_generations/imgs_demo_templatev0.1_gpt-4.5-preview/boxes_9.gif\" width=\"256\">\n",
       "            </div>\n",
       "            \n",
       "            <div style=\"text-align: center;\">\n",
       "                <p>GPT-4o</p>\n",
       "                <img src=\"/home/leigang/wangzy/LLM-groundedVideoDiffusion/img_generations/imgs_demo_templatev0.1_gpt-4o/boxes_9.gif\" width=\"256\">\n",
       "            </div>\n",
       "            \n",
       "            <div style=\"text-align: center;\">\n",
       "                <p>GPT-4-1106</p>\n",
       "                <img src=\"/home/leigang/wangzy/LLM-groundedVideoDiffusion/img_generations/imgs_demo_templatev0.1_gpt-4-1106-preview/boxes_9.gif\" width=\"256\">\n",
       "            </div>\n",
       "            </div>"
      ],
      "text/plain": [
       "<IPython.core.display.HTML object>"
      ]
     },
     "metadata": {},
     "output_type": "display_data"
    },
    {
     "name": "stdout",
     "output_type": "stream",
     "text": [
      "Comparing images for prompt 10: A skateboarder glides swiftly from the left, makes a sudden sharp turn at the center, then continues diagonally downward toward the lower right corner.\n"
     ]
    },
    {
     "data": {
      "text/html": [
       "<div style=\"display: flex; gap: 20px;\">\n",
       "            <div style=\"text-align: center;\">\n",
       "                <p>GPT-4.5-preview</p>\n",
       "                <img src=\"/home/leigang/wangzy/LLM-groundedVideoDiffusion/img_generations/imgs_demo_templatev0.1_gpt-4.5-preview/boxes_10.gif\" width=\"256\">\n",
       "            </div>\n",
       "            \n",
       "            <div style=\"text-align: center;\">\n",
       "                <p>GPT-4o</p>\n",
       "                <img src=\"/home/leigang/wangzy/LLM-groundedVideoDiffusion/img_generations/imgs_demo_templatev0.1_gpt-4o/boxes_10.gif\" width=\"256\">\n",
       "            </div>\n",
       "            \n",
       "            <div style=\"text-align: center;\">\n",
       "                <p>GPT-4-1106</p>\n",
       "                <img src=\"/home/leigang/wangzy/LLM-groundedVideoDiffusion/img_generations/imgs_demo_templatev0.1_gpt-4-1106-preview/boxes_10.gif\" width=\"256\">\n",
       "            </div>\n",
       "            </div>"
      ],
      "text/plain": [
       "<IPython.core.display.HTML object>"
      ]
     },
     "metadata": {},
     "output_type": "display_data"
    },
    {
     "name": "stdout",
     "output_type": "stream",
     "text": [
      "Comparing images for prompt 11: A motorcycle accelerates quickly upward from the bottom center, veers sharply left at mid-screen, and exits rapidly toward the upper left.\n"
     ]
    },
    {
     "data": {
      "text/html": [
       "<div style=\"display: flex; gap: 20px;\">\n",
       "            <div style=\"text-align: center;\">\n",
       "                <p>GPT-4.5-preview</p>\n",
       "                <img src=\"/home/leigang/wangzy/LLM-groundedVideoDiffusion/img_generations/imgs_demo_templatev0.1_gpt-4.5-preview/boxes_11.gif\" width=\"256\">\n",
       "            </div>\n",
       "            \n",
       "            <div style=\"text-align: center;\">\n",
       "                <p>GPT-4o</p>\n",
       "                <img src=\"/home/leigang/wangzy/LLM-groundedVideoDiffusion/img_generations/imgs_demo_templatev0.1_gpt-4o/boxes_11.gif\" width=\"256\">\n",
       "            </div>\n",
       "            \n",
       "            <div style=\"text-align: center;\">\n",
       "                <p>GPT-4-1106</p>\n",
       "                <img src=\"/home/leigang/wangzy/LLM-groundedVideoDiffusion/img_generations/imgs_demo_templatev0.1_gpt-4-1106-preview/boxes_11.gif\" width=\"256\">\n",
       "            </div>\n",
       "            </div>"
      ],
      "text/plain": [
       "<IPython.core.display.HTML object>"
      ]
     },
     "metadata": {},
     "output_type": "display_data"
    },
    {
     "name": "stdout",
     "output_type": "stream",
     "text": [
      "Comparing images for prompt 12: A bird flies from the distance toward the viewer, appearing larger as it approaches the center, then turns sharply and flies back into the distance.\n"
     ]
    },
    {
     "data": {
      "text/html": [
       "<div style=\"display: flex; gap: 20px;\">\n",
       "            <div style=\"text-align: center;\">\n",
       "                <p>GPT-4.5-preview</p>\n",
       "                <img src=\"/home/leigang/wangzy/LLM-groundedVideoDiffusion/img_generations/imgs_demo_templatev0.1_gpt-4.5-preview/boxes_12.gif\" width=\"256\">\n",
       "            </div>\n",
       "            \n",
       "            <div style=\"text-align: center;\">\n",
       "                <p>GPT-4o</p>\n",
       "                <img src=\"/home/leigang/wangzy/LLM-groundedVideoDiffusion/img_generations/imgs_demo_templatev0.1_gpt-4o/boxes_12.gif\" width=\"256\">\n",
       "            </div>\n",
       "            \n",
       "            <div style=\"text-align: center;\">\n",
       "                <p>GPT-4-1106</p>\n",
       "                <img src=\"/home/leigang/wangzy/LLM-groundedVideoDiffusion/img_generations/imgs_demo_templatev0.1_gpt-4-1106-preview/boxes_12.gif\" width=\"256\">\n",
       "            </div>\n",
       "            </div>"
      ],
      "text/plain": [
       "<IPython.core.display.HTML object>"
      ]
     },
     "metadata": {},
     "output_type": "display_data"
    },
    {
     "name": "stdout",
     "output_type": "stream",
     "text": [
      "Comparing images for prompt 13: A soccer ball is kicked from far away at the center top, rapidly approaching closer to the viewer, then slows down and gently rolls to a stop near the bottom.\n"
     ]
    },
    {
     "data": {
      "text/html": [
       "<div style=\"display: flex; gap: 20px;\">\n",
       "            <div style=\"text-align: center;\">\n",
       "                <p>GPT-4.5-preview</p>\n",
       "                <img src=\"/home/leigang/wangzy/LLM-groundedVideoDiffusion/img_generations/imgs_demo_templatev0.1_gpt-4.5-preview/boxes_13.gif\" width=\"256\">\n",
       "            </div>\n",
       "            \n",
       "            <div style=\"text-align: center;\">\n",
       "                <p>GPT-4o</p>\n",
       "                <img src=\"/home/leigang/wangzy/LLM-groundedVideoDiffusion/img_generations/imgs_demo_templatev0.1_gpt-4o/boxes_13.gif\" width=\"256\">\n",
       "            </div>\n",
       "            \n",
       "            <div style=\"text-align: center;\">\n",
       "                <p>GPT-4-1106</p>\n",
       "                <img src=\"/home/leigang/wangzy/LLM-groundedVideoDiffusion/img_generations/imgs_demo_templatev0.1_gpt-4-1106-preview/boxes_13.gif\" width=\"256\">\n",
       "            </div>\n",
       "            </div>"
      ],
      "text/plain": [
       "<IPython.core.display.HTML object>"
      ]
     },
     "metadata": {},
     "output_type": "display_data"
    },
    {
     "name": "stdout",
     "output_type": "stream",
     "text": [
      "Comparing images for prompt 14: An airplane takes off from near the bottom center, gradually shrinking as it ascends into the distance toward the top right.\n"
     ]
    },
    {
     "data": {
      "text/html": [
       "<div style=\"display: flex; gap: 20px;\">\n",
       "            <div style=\"text-align: center;\">\n",
       "                <p>GPT-4.5-preview</p>\n",
       "                <img src=\"/home/leigang/wangzy/LLM-groundedVideoDiffusion/img_generations/imgs_demo_templatev0.1_gpt-4.5-preview/boxes_14.gif\" width=\"256\">\n",
       "            </div>\n",
       "            \n",
       "            <div style=\"text-align: center;\">\n",
       "                <p>GPT-4o</p>\n",
       "                <img src=\"/home/leigang/wangzy/LLM-groundedVideoDiffusion/img_generations/imgs_demo_templatev0.1_gpt-4o/boxes_14.gif\" width=\"256\">\n",
       "            </div>\n",
       "            \n",
       "            <div style=\"text-align: center;\">\n",
       "                <p>GPT-4-1106</p>\n",
       "                <img src=\"/home/leigang/wangzy/LLM-groundedVideoDiffusion/img_generations/imgs_demo_templatev0.1_gpt-4-1106-preview/boxes_14.gif\" width=\"256\">\n",
       "            </div>\n",
       "            </div>"
      ],
      "text/plain": [
       "<IPython.core.display.HTML object>"
      ]
     },
     "metadata": {},
     "output_type": "display_data"
    },
    {
     "name": "stdout",
     "output_type": "stream",
     "text": [
      "Comparing images for prompt 15: A hot air balloon floats gently upward from close range at the bottom left, slowly becoming smaller as it drifts into the distant sky toward the upper right.\n"
     ]
    },
    {
     "data": {
      "text/html": [
       "<div style=\"display: flex; gap: 20px;\">\n",
       "            <div style=\"text-align: center;\">\n",
       "                <p>GPT-4.5-preview</p>\n",
       "                <img src=\"/home/leigang/wangzy/LLM-groundedVideoDiffusion/img_generations/imgs_demo_templatev0.1_gpt-4.5-preview/boxes_15.gif\" width=\"256\">\n",
       "            </div>\n",
       "            \n",
       "            <div style=\"text-align: center;\">\n",
       "                <p>GPT-4o</p>\n",
       "                <img src=\"/home/leigang/wangzy/LLM-groundedVideoDiffusion/img_generations/imgs_demo_templatev0.1_gpt-4o/boxes_15.gif\" width=\"256\">\n",
       "            </div>\n",
       "            \n",
       "            <div style=\"text-align: center;\">\n",
       "                <p>GPT-4-1106</p>\n",
       "                <img src=\"/home/leigang/wangzy/LLM-groundedVideoDiffusion/img_generations/imgs_demo_templatev0.1_gpt-4-1106-preview/boxes_15.gif\" width=\"256\">\n",
       "            </div>\n",
       "            </div>"
      ],
      "text/plain": [
       "<IPython.core.display.HTML object>"
      ]
     },
     "metadata": {},
     "output_type": "display_data"
    },
    {
     "name": "stdout",
     "output_type": "stream",
     "text": [
      "Comparing images for prompt 16: A runner approaches rapidly from far away at the upper left corner, growing larger as they approach the center, then curves sharply to disappear into the distance at the bottom right.\n"
     ]
    },
    {
     "data": {
      "text/html": [
       "<div style=\"display: flex; gap: 20px;\">\n",
       "            <div style=\"text-align: center;\">\n",
       "                <p>GPT-4.5-preview</p>\n",
       "                <img src=\"/home/leigang/wangzy/LLM-groundedVideoDiffusion/img_generations/imgs_demo_templatev0.1_gpt-4.5-preview/boxes_16.gif\" width=\"256\">\n",
       "            </div>\n",
       "            \n",
       "            <div style=\"text-align: center;\">\n",
       "                <p>GPT-4o</p>\n",
       "                <img src=\"/home/leigang/wangzy/LLM-groundedVideoDiffusion/img_generations/imgs_demo_templatev0.1_gpt-4o/boxes_16.gif\" width=\"256\">\n",
       "            </div>\n",
       "            \n",
       "            <div style=\"text-align: center;\">\n",
       "                <p>GPT-4-1106</p>\n",
       "                <img src=\"/home/leigang/wangzy/LLM-groundedVideoDiffusion/img_generations/imgs_demo_templatev0.1_gpt-4-1106-preview/boxes_16.gif\" width=\"256\">\n",
       "            </div>\n",
       "            </div>"
      ],
      "text/plain": [
       "<IPython.core.display.HTML object>"
      ]
     },
     "metadata": {},
     "output_type": "display_data"
    }
   ],
   "source": [
    "from IPython.display import display, HTML\n",
    "import os\n",
    "\n",
    "# 目录路径\n",
    "gpt_45_dir = \"/home/leigang/wangzy/LLM-groundedVideoDiffusion/img_generations/imgs_demo_templatev0.1_gpt-4.5-preview/\"\n",
    "gpt_4o_dir = \"/home/leigang/wangzy/LLM-groundedVideoDiffusion/img_generations/imgs_demo_templatev0.1_gpt-4o/\"\n",
    "gpt_4_1106_dir = \"/home/leigang/wangzy/LLM-groundedVideoDiffusion/img_generations/imgs_demo_templatev0.1_gpt-4-1106-preview/\"\n",
    "\n",
    "# 遍历所有 prompts\n",
    "for i, prompt in enumerate(prompts_demo):\n",
    "    image_paths = [\n",
    "        os.path.join(gpt_45_dir, f\"boxes_{i}.gif\"),\n",
    "        os.path.join(gpt_4o_dir, f\"boxes_{i}.gif\"),\n",
    "        os.path.join(gpt_4_1106_dir, f\"boxes_{i}.gif\")\n",
    "    ]\n",
    "    \n",
    "    # 过滤掉不存在的 GIF\n",
    "    valid_image_paths = [path for path in image_paths if os.path.exists(path)]\n",
    "    model_names = [\"GPT-4.5-preview\", \"GPT-4o\", \"GPT-4-1106\"]\n",
    "    \n",
    "    if valid_image_paths:\n",
    "        print(f\"Comparing images for prompt {i}: {prompt}\")\n",
    "        \n",
    "        # 生成 HTML 代码，使用 <img> 标签并排显示 GIF\n",
    "        html_content = '<div style=\"display: flex; gap: 20px;\">'\n",
    "        for img_path, model_name in zip(valid_image_paths, model_names):\n",
    "            html_content += f'''\n",
    "            <div style=\"text-align: center;\">\n",
    "                <p>{model_name}</p>\n",
    "                <img src=\"{img_path}\" width=\"256\">\n",
    "            </div>\n",
    "            '''\n",
    "        html_content += '</div>'\n",
    "        \n",
    "        # 显示 HTML\n",
    "        display(HTML(html_content))\n"
   ]
  },
  {
   "cell_type": "code",
   "execution_count": null,
   "metadata": {},
   "outputs": [],
   "source": []
  }
 ],
 "metadata": {
  "kernelspec": {
   "display_name": "zy_py310_torch2",
   "language": "python",
   "name": "python3"
  },
  "language_info": {
   "codemirror_mode": {
    "name": "ipython",
    "version": 3
   },
   "file_extension": ".py",
   "mimetype": "text/x-python",
   "name": "python",
   "nbconvert_exporter": "python",
   "pygments_lexer": "ipython3",
   "version": "3.10.14"
  }
 },
 "nbformat": 4,
 "nbformat_minor": 2
}
