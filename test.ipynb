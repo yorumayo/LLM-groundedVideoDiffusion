{
 "cells": [
  {
   "cell_type": "code",
   "execution_count": 1,
   "metadata": {},
   "outputs": [
    {
     "name": "stdout",
     "output_type": "stream",
     "text": [
      "Sampled 25 prompts saved to cache/cache_lvd_v0.1_25_gpt-4-1106-preview.json.\n"
     ]
    }
   ],
   "source": [
    "import json\n",
    "import numpy as np\n",
    "\n",
    "# Specify input and output file paths\n",
    "input_json_path = \"cache/cache_lvd_v0.1_gpt-4-1106-preview.json\"  # Replace with your actual input JSON file\n",
    "output_json_path = \"cache/cache_lvd_v0.1_25_gpt-4-1106-preview.json\"\n",
    "\n",
    "# Load the JSON data\n",
    "with open(input_json_path, \"r\", encoding=\"utf-8\") as f:\n",
    "    data = json.load(f)\n",
    "\n",
    "# Extract keys (prompts)\n",
    "prompts = list(data.keys())\n",
    "\n",
    "# Ensure there are enough prompts to sample from\n",
    "num_samples = min(25, len(prompts))  # Take up to 25, but handle cases where fewer exist\n",
    "\n",
    "# Select evenly spaced indices\n",
    "indices = np.linspace(0, len(prompts) - 1, num_samples, dtype=int)\n",
    "\n",
    "# Create a new dictionary with the sampled prompts\n",
    "sampled_prompts = {prompts[i]: data[prompts[i]] for i in indices}\n",
    "\n",
    "# Save the sampled prompts to a new JSON file\n",
    "with open(output_json_path, \"w\", encoding=\"utf-8\") as f:\n",
    "    json.dump(sampled_prompts, f, indent=4, ensure_ascii=False)\n",
    "\n",
    "print(f\"Sampled {num_samples} prompts saved to {output_json_path}.\")\n"
   ]
  },
  {
   "cell_type": "code",
   "execution_count": null,
   "metadata": {},
   "outputs": [],
   "source": []
  }
 ],
 "metadata": {
  "kernelspec": {
   "display_name": "zy_py310_torch2",
   "language": "python",
   "name": "python3"
  },
  "language_info": {
   "codemirror_mode": {
    "name": "ipython",
    "version": 3
   },
   "file_extension": ".py",
   "mimetype": "text/x-python",
   "name": "python",
   "nbconvert_exporter": "python",
   "pygments_lexer": "ipython3",
   "version": "3.10.14"
  }
 },
 "nbformat": 4,
 "nbformat_minor": 2
}
